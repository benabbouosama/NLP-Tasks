{
  "nbformat": 4,
  "nbformat_minor": 0,
  "metadata": {
    "colab": {
      "provenance": []
    },
    "kernelspec": {
      "name": "python3",
      "display_name": "Python 3"
    },
    "language_info": {
      "name": "python"
    }
  },
  "cells": [
    {
      "cell_type": "markdown",
      "source": [
        "# Minimum edit distance :"
      ],
      "metadata": {
        "id": "hfes34cN-fKH"
      }
    },
    {
      "cell_type": "markdown",
      "source": [
        "A basic implementation of the Levenshtein Distance algorithm to compute the minimal edit distance between two strings."
      ],
      "metadata": {
        "id": "CZZuG3w2BMHT"
      }
    },
    {
      "cell_type": "code",
      "source": [
        "def del_cost():\n",
        "    return 1\n",
        "\n",
        "def ins_cost():\n",
        "    return 1\n",
        "\n",
        "def sub_cost(c1, c2):\n",
        "    if c1 == c2:\n",
        "        return 0\n",
        "    else:\n",
        "        return 2\n",
        "\n",
        "def min_edit_distance(source, target):\n",
        "    # Initialize the cost matrix\n",
        "    n = len(source)\n",
        "    m = len(target)\n",
        "    d = [[0 for _ in range(m+1)] for _ in range(n+1)]\n",
        "\n",
        "    # Initialize the first column\n",
        "    for i in range(1, n+1):\n",
        "        d[i][0] = d[i-1][0] + del_cost()\n",
        "\n",
        "    # Initialize the first row\n",
        "    for i in range(1, m+1):\n",
        "        d[0][i] = d[0][i-1] + ins_cost()\n",
        "\n",
        "    # Compute the edit distance\n",
        "    for i in range(1, n+1):\n",
        "        for j in range(1, m+1):\n",
        "            deletion = d[i-1][j] + del_cost()\n",
        "            insertion = d[i][j-1] + ins_cost()\n",
        "            substitution = d[i-1][j-1] + sub_cost(source[i-1], target[j-1])\n",
        "            min_cost = min(deletion, insertion, substitution)\n",
        "            d[i][j] = min_cost\n",
        "\n",
        "    # Return the edit distance\n",
        "    return d[n][m]\n",
        "\n",
        "# Example usage\n",
        "w1 = 'intention'\n",
        "w2 = 'execution'\n",
        "print('edit distance between', repr(w1), 'and', repr(w2), 'is', min_edit_distance(w1, w2))"
      ],
      "metadata": {
        "colab": {
          "base_uri": "https://localhost:8080/"
        },
        "id": "rKryc_Sn-hBV",
        "outputId": "79b1f7ac-c124-4c49-f9d9-7e626735b34b"
      },
      "execution_count": 5,
      "outputs": [
        {
          "output_type": "stream",
          "name": "stdout",
          "text": [
            "edit distance between 'intention' and 'execution' is 8\n"
          ]
        }
      ]
    },
    {
      "cell_type": "markdown",
      "source": [
        "Now we will enrich our edit distance function to also record the backtrace and use this backtrace to print an alignment between the strings."
      ],
      "metadata": {
        "id": "DC5CCKy6Awbe"
      }
    },
    {
      "cell_type": "code",
      "source": [
        "def del_cost():\n",
        "    return 1\n",
        "\n",
        "def ins_cost():\n",
        "    return 1\n",
        "\n",
        "def sub_cost(c1, c2):\n",
        "    if c1 == c2:\n",
        "        return 0\n",
        "    else:\n",
        "        return 2\n",
        "\n",
        "def min_edit_distance(source, target, do_print_chart=False):\n",
        "    # Initialization of the cost matrix and backtracking\n",
        "    n = len(source)\n",
        "    m = len(target)\n",
        "    d = [[0 for _ in range(m+1)] for _ in range(n+1)]\n",
        "    backtrack = [[None for _ in range(m+1)] for _ in range(n+1)]\n",
        "\n",
        "    # Initialize the first column\n",
        "    for i in range(1, n+1):\n",
        "        d[i][0] = d[i-1][0] + del_cost()\n",
        "        backtrack[i][0] = 'deletion'\n",
        "\n",
        "    # Initialize the first row\n",
        "    for i in range(1, m+1):\n",
        "        d[0][i] = d[0][i-1] + ins_cost()\n",
        "        backtrack[i][0] = 'insertion'\n",
        "\n",
        "    # Compute the edit distance\n",
        "    for i in range(1, n+1):\n",
        "        for j in range(1, m+1):\n",
        "            deletion = d[i-1][j] + del_cost()\n",
        "            insertion = d[i][j-1] + ins_cost()\n",
        "            substitution = d[i-1][j-1] + sub_cost(source[i-1], target[j-1])\n",
        "            min_cost = min(deletion, insertion, substitution)\n",
        "\n",
        "            # Record the move corresponding to the backtracking\n",
        "            if min_cost == deletion:\n",
        "                backtrack[i][j] = 'deletion'\n",
        "            elif min_cost == insertion:\n",
        "                backtrack[i][j] = 'insertion'\n",
        "            else:\n",
        "                backtrack[i][j] = 'substitution'\n",
        "\n",
        "            d[i][j] = min_cost\n",
        "\n",
        "    # Backtracking to generate the alignment\n",
        "    align_source = ''\n",
        "    align_target = ''\n",
        "    i, j = n, m\n",
        "    while i > 0 or j > 0:\n",
        "        if i > 0 and (j == 0 or backtrack[i][j] == 'deletion'):\n",
        "            align_source = source[i-1] + align_source\n",
        "            align_target = '-' + align_target\n",
        "            i -= 1\n",
        "        elif j > 0 and (i == 0 or backtrack[i][j] == 'insertion'):\n",
        "            align_source = '-' + align_source\n",
        "            align_target = target[j-1] + align_target\n",
        "            j -= 1\n",
        "        else:\n",
        "            align_source = source[i-1] + align_source\n",
        "            align_target = target[j-1] + align_target\n",
        "            i -= 1\n",
        "            j -= 1\n",
        "\n",
        "    # Return the edit distance\n",
        "    return d[n][m], align_source, align_target\n",
        "\n",
        "# Example usage\n",
        "w1 = 'intention'\n",
        "w2 = 'execution'\n",
        "distance, align_source, align_target = min_edit_distance(w1, w2)\n",
        "print('edit distance between', repr(w1), 'and', repr(w2), 'is', distance)\n",
        "print('Alignment:')\n",
        "print(align_source)\n",
        "print(align_target)"
      ],
      "metadata": {
        "colab": {
          "base_uri": "https://localhost:8080/"
        },
        "id": "C-pV1-y5_DRn",
        "outputId": "9c137e5e-de49-4341-c26f-64e4630c37ed"
      },
      "execution_count": 6,
      "outputs": [
        {
          "output_type": "stream",
          "name": "stdout",
          "text": [
            "edit distance between 'intention' and 'execution' is 8\n",
            "Alignment:\n",
            "inte----ntion\n",
            "---execu-tion\n"
          ]
        }
      ]
    },
    {
      "cell_type": "markdown",
      "source": [
        "**Adjusting Adjacency Costs for More Intelligent Edit Distance Calculation**\n",
        "\n",
        "Now, we aim to enhance the edit distance calculation by adjusting the cost functions to better handle spelling corrections and disordered text from the web.\n",
        "\n",
        "We will:\n",
        "\n",
        "1. **Revise Cost Functions:** Modify the cost functions to reflect more intelligent distance measures. Specifically, we will assign a lower cost to substitutions involving adjacent keys on a QWERTY keyboard compared to non-adjacent keys.\n",
        "\n",
        "2. **Use QWERTY Keyboard Data:** Utilize the adjacency data provided in `qwerty_graph.txt` to guide these cost adjustments, ensuring that the calculation more accurately reflects real-world typing errors.\n",
        "\n",
        "By implementing these changes, the goal is to make the edit distance algorithm more applicable for spelling correction and more effective for handling messy text inputs."
      ],
      "metadata": {
        "id": "TrUXtsu1UV9z"
      }
    },
    {
      "cell_type": "markdown",
      "source": [
        "We are going to use the ast module to import the content of the 'qwerty_graph.txt' file as a Python expression .\n",
        "\n",
        "To download the file : https://github.com/Rich5/Keyboard-Walk-Generators"
      ],
      "metadata": {
        "id": "lwbhHm1cDp7W"
      }
    },
    {
      "cell_type": "code",
      "source": [
        "import ast\n",
        "\n",
        "def del_cost():\n",
        "    return 1\n",
        "\n",
        "def ins_cost():\n",
        "    return 1\n",
        "\n",
        "def sub_cost(c1, c2, qwerty_graph):\n",
        "    if c1 == c2:\n",
        "        return 0\n",
        "    elif c1 in qwerty_graph and c2 in qwerty_graph[c1].values():\n",
        "        return 1  # Lower cost for adjacent keys on the QWERTY keyboard\n",
        "    else:\n",
        "        return 2  # Higher cost for non-adjacent keys\n",
        "\n",
        "# Edit distance calculation\n",
        "def min_edit_distance(source, target, qwerty_graph):\n",
        "\n",
        "    \"\"\"\n",
        "    Calculates the edit distance between two strings and generates an alignment.\n",
        "\n",
        "    Parameters\n",
        "    ----------\n",
        "    source : str\n",
        "        The source string.\n",
        "    target : str\n",
        "        The target string.\n",
        "    qwerty_graph : dict\n",
        "        Proximity graph of keys on a QWERTY keyboard.\n",
        "\n",
        "    Returns\n",
        "    -------\n",
        "    tuple\n",
        "        A tuple containing the edit distance between the two strings and the alignment.\n",
        "    \"\"\"\n",
        "\n",
        "    # Initialization of the cost matrix and backtracking\n",
        "    n = len(source)\n",
        "    m = len(target)\n",
        "    D = [[0 for _ in range(m+1)] for _ in range(n+1)]\n",
        "    backtrack = [[None for _ in range(m+1)] for _ in range(n+1)]\n",
        "\n",
        "    # Initialize the first column\n",
        "    for i in range(1, n+1):\n",
        "        D[i][0] = D[i-1][0] + del_cost()\n",
        "        backtrack[i][0] = 'up'\n",
        "\n",
        "    # Initialize the first row\n",
        "    for j in range(1, m+1):\n",
        "        D[0][j] = D[0][j-1] + ins_cost()\n",
        "        backtrack[0][j] = 'left'\n",
        "\n",
        "    # Compute the edit distance and record the backtracking\n",
        "    for i in range(1, n+1):\n",
        "        for j in range(1, m+1):\n",
        "            deletion = D[i-1][j] + del_cost()\n",
        "            insertion = D[i][j-1] + ins_cost()\n",
        "            substitution = D[i-1][j-1] + sub_cost(source[i-1], target[j-1], qwerty_graph)\n",
        "            min_cost = min(deletion, insertion, substitution)\n",
        "\n",
        "            # Record the move corresponding to backtracking\n",
        "            if min_cost == deletion:\n",
        "                backtrack[i][j] = 'up'\n",
        "            elif min_cost == insertion:\n",
        "                backtrack[i][j] = 'left'\n",
        "            else:\n",
        "                backtrack[i][j] = 'diag'\n",
        "\n",
        "            D[i][j] = min_cost\n",
        "\n",
        "    # Backtracking to generate the alignment\n",
        "    align_source = ''\n",
        "    align_target = ''\n",
        "    i, j = n, m\n",
        "    while i > 0 or j > 0:\n",
        "        if i > 0 and (j == 0 or backtrack[i][j] == 'up'):\n",
        "            align_source = source[i-1] + align_source\n",
        "            align_target = '-' + align_target\n",
        "            i -= 1\n",
        "        elif j > 0 and (i == 0 or backtrack[i][j] == 'left'):\n",
        "            align_source = '-' + align_source\n",
        "            align_target = target[j-1] + align_target\n",
        "            j -= 1\n",
        "        else:\n",
        "            align_source = source[i-1] + align_source\n",
        "            align_target = target[j-1] + align_target\n",
        "            i -= 1\n",
        "            j -= 1\n",
        "\n",
        "    # Return the edit distance and alignment\n",
        "    return D[n][m], align_source, align_target\n",
        "\n",
        "# Example usage\n",
        "w1 = 'pxecution'\n",
        "w2 = 'execution'\n",
        "qwerty_file = 'qwerty_graph.txt'\n",
        "\n",
        "with open(qwerty_file, 'r') as file:\n",
        "    qwerty_graph = ast.literal_eval(file.read())\n",
        "\n",
        "distance, align_source, align_target = min_edit_distance(w1, w2, qwerty_graph)\n",
        "print('The edit distance between', repr(w1), 'and', repr(w2), 'is', distance)\n",
        "print('Alignment:')\n",
        "print(align_source)\n",
        "print(align_target)"
      ],
      "metadata": {
        "colab": {
          "base_uri": "https://localhost:8080/"
        },
        "id": "IED_mKhRDNZo",
        "outputId": "22c31fee-0461-4810-c72b-b82ea94e6a53"
      },
      "execution_count": 13,
      "outputs": [
        {
          "output_type": "stream",
          "name": "stdout",
          "text": [
            "The edit distance between 'pxecution' and 'execution' is 2\n",
            "Alignment:\n",
            "-pxecution\n",
            "e-xecution\n"
          ]
        }
      ]
    },
    {
      "cell_type": "markdown",
      "source": [
        "# Autocorrection :"
      ],
      "metadata": {
        "id": "3geaGAnhj18L"
      }
    },
    {
      "cell_type": "markdown",
      "source": [
        "**Now we will implement a basic spelling correction algorithm based on the following simple approach:**\n",
        "\n",
        "1. **Identify the Problem:** We have a word `w` that contains a spelling error. Our goal is to find the closest valid words from a dictionary based on edit distance.\n",
        "\n",
        "2. **Calculate Edit Distance:** For each word in the dictionary, we will compute the edit distance between `w` and the dictionary word. Edit distance measures how many operations (insertions, deletions, substitutions) are required to transform one word into another.\n",
        "\n",
        "3. **Generate Suggestions:** We will then sort these words by their edit distance from `w` and select the top `k` closest words."
      ],
      "metadata": {
        "id": "gCIHe9CnXPvi"
      }
    },
    {
      "cell_type": "code",
      "source": [
        "import heapq # We will use Heap data structure\n",
        "\n",
        "def auto_correction(w, dictionary, k, qwerty_graph):\n",
        "    \"\"\"\n",
        "    Generates a list of the top k closest words from the dictionary based on edit distance to the given word.\n",
        "\n",
        "    Parameters\n",
        "    ----------\n",
        "    w : str\n",
        "        The word to correct.\n",
        "    dictionary : list of str\n",
        "        List of words in the dictionary.\n",
        "    k : int\n",
        "        The number of top suggestions to return.\n",
        "    qwerty_graph : dict\n",
        "        Proximity graph of keys on a QWERTY keyboard.\n",
        "\n",
        "    Returns\n",
        "    -------\n",
        "    list of str\n",
        "        The top k closest suggestions to the word w.\n",
        "    \"\"\"\n",
        "\n",
        "    # Dictionary to store words and their computed edit distances from the input word\n",
        "    suggestions = {}\n",
        "\n",
        "    # Compute the edit distance for each word in the dictionary\n",
        "    for word in dictionary:\n",
        "        distance, _, _ = min_edit_distance(w, word, qwerty_graph)\n",
        "        suggestions[word] = distance\n",
        "\n",
        "    # Use heapq to efficiently find the k smallest distances\n",
        "    top_k_suggestions = heapq.nsmallest(k, suggestions, key=suggestions.get)\n",
        "\n",
        "    return top_k_suggestions"
      ],
      "metadata": {
        "id": "9z5knq-LEomI"
      },
      "execution_count": 14,
      "outputs": []
    },
    {
      "cell_type": "code",
      "source": [
        "w = 'intetion'\n",
        "dictionary = ['intention', 'invention', 'intervention', 'attention', 'extension']\n",
        "k = 3\n",
        "\n",
        "# Load the QWERTY graph data\n",
        "with open(qwerty_file, 'r') as file:\n",
        "    qwerty_graph = ast.literal_eval(file.read())\n",
        "\n",
        "# Get the top k suggestions\n",
        "suggestions = auto_correction(w, dictionary, k, qwerty_graph)\n",
        "print(f'Top {k} suggestions for \"{w}\":')\n",
        "print(suggestions)"
      ],
      "metadata": {
        "colab": {
          "base_uri": "https://localhost:8080/"
        },
        "id": "3fh9_zMiW3Wl",
        "outputId": "c4b67c21-2707-443f-968a-aeabecf3d7fc"
      },
      "execution_count": 15,
      "outputs": [
        {
          "output_type": "stream",
          "name": "stdout",
          "text": [
            "Top 3 suggestions for \"intetion\":\n",
            "['intention', 'invention', 'intervention']\n"
          ]
        }
      ]
    },
    {
      "cell_type": "markdown",
      "source": [
        "**Now we will optimize the previous algorithm by considering the following points:**\n",
        "\n",
        "- **Correct First Letter:** People usually get the first letter of a word correct, so we can limit our search to words that start with the same letter.\n",
        "\n",
        "- **Similar Length:** We can narrow our search to words of the same length or similar length.\n",
        "\n",
        "- **Phonetic Matching:** We can restrict our search to words that sound similar by using a phonetic code to group words (such as Soundex).\n"
      ],
      "metadata": {
        "id": "bwJ0q7wDfHmK"
      }
    },
    {
      "cell_type": "code",
      "source": [
        "!pip install fuzzywuzzy"
      ],
      "metadata": {
        "colab": {
          "base_uri": "https://localhost:8080/"
        },
        "id": "cQ9bk0uugOjV",
        "outputId": "7ec09026-3023-42cd-80e8-2614a5bebf6e"
      },
      "execution_count": 24,
      "outputs": [
        {
          "output_type": "stream",
          "name": "stdout",
          "text": [
            "Collecting fuzzywuzzy\n",
            "  Downloading fuzzywuzzy-0.18.0-py2.py3-none-any.whl.metadata (4.9 kB)\n",
            "Downloading fuzzywuzzy-0.18.0-py2.py3-none-any.whl (18 kB)\n",
            "Installing collected packages: fuzzywuzzy\n",
            "Successfully installed fuzzywuzzy-0.18.0\n"
          ]
        }
      ]
    },
    {
      "cell_type": "code",
      "source": [
        "import jellyfish\n",
        "from fuzzywuzzy import fuzz\n",
        "\n",
        "def have_same_soundex(word1, word2):\n",
        "    return fuzz.ratio(jellyfish.soundex(word1), jellyfish.soundex(word2)) > 75\n",
        "\n",
        "def auto_correction_optimized(w, dictionary, k, qwerty_graph):\n",
        "    \"\"\"\n",
        "    Generates a list of the top k closest words from the dictionary based on edit distance to the given word,\n",
        "    with optimizations for starting letter, length, and phonetic similarity.\n",
        "\n",
        "    Parameters\n",
        "    ----------\n",
        "    w : str\n",
        "        The word to correct.\n",
        "    dictionary : list of str\n",
        "        List of words in the dictionary.\n",
        "    k : int\n",
        "        The number of top suggestions to return.\n",
        "    qwerty_graph : dict\n",
        "        Proximity graph of keys on a QWERTY keyboard.\n",
        "\n",
        "    Returns\n",
        "    -------\n",
        "    list of str\n",
        "        The top k closest suggestions to the word w.\n",
        "    \"\"\"\n",
        "\n",
        "    # Initialize dictionary to store words and their computed edit distances from the input word\n",
        "    suggestions = {}\n",
        "\n",
        "    # Extract the first letter\n",
        "    first_letter = w[0]\n",
        "\n",
        "    # Compute the edit distance for each word in the dictionary with optimizations\n",
        "    for word in dictionary:\n",
        "        # Check if the word starts with the same letter\n",
        "        if word[0] != first_letter:\n",
        "            continue\n",
        "\n",
        "        # Check length similarity ( Allow some flexibility in length)\n",
        "        if abs(len(word) - len(w)) > 2:\n",
        "            continue\n",
        "\n",
        "        # Compute phonetic similarity\n",
        "        if not have_same_soundex(word, w):\n",
        "            continue\n",
        "\n",
        "        # Calculate the edit distance and store it\n",
        "        distance, _, _ = min_edit_distance(w, word, qwerty_graph)\n",
        "        suggestions[word] = distance\n",
        "\n",
        "    top_k_suggestions = heapq.nsmallest(k, suggestions, key=suggestions.get)\n",
        "\n",
        "    return top_k_suggestions"
      ],
      "metadata": {
        "id": "WfRIau2pfSno"
      },
      "execution_count": 31,
      "outputs": []
    },
    {
      "cell_type": "code",
      "source": [
        "w = 'speling'\n",
        "dictionary = ['spelling', 'speeling', 'spellin', 'speling', 'spling', 'spelling']\n",
        "\n",
        "k = 3\n",
        "\n",
        "suggestions = auto_correction_optimized(w, dictionary, k, qwerty_graph)\n",
        "print('Top suggestions:', suggestions)"
      ],
      "metadata": {
        "colab": {
          "base_uri": "https://localhost:8080/"
        },
        "id": "lrO_4hQWgdQo",
        "outputId": "c452965a-1627-4c9b-d3e2-ba371c1e8e31"
      },
      "execution_count": 32,
      "outputs": [
        {
          "output_type": "stream",
          "name": "stdout",
          "text": [
            "Top suggestions: ['speling', 'spelling', 'speeling']\n"
          ]
        }
      ]
    }
  ]
}